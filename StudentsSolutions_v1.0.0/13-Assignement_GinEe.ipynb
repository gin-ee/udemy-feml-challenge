{
 "cells": [
  {
   "cell_type": "markdown",
   "metadata": {},
   "source": [
    "## Assignment:\n",
    "\n",
    "Beat the performance of my Lasso regression by **using different feature engineering steps ONLY!!**.\n",
    "\n",
    "The performance of my current model, as shown in this notebook is:\n",
    "\n",
    "- test mse: 1063016789.3316755\n",
    "- test rmse: 32603.938248801718\n",
    "- test r2: 0.8453144708738004\n",
    "\n",
    "To beat my model you will need a test r2 bigger than 0.85 and a rmse smaller than 32603.\n",
    "\n",
    "\n",
    "=====================================================================================================\n",
    "\n",
    "\n",
    "### Conditions:\n",
    "\n",
    "- You MUST NOT change the hyperparameters of the Lasso.\n",
    "- You MUST use the same seeds in Lasso and train_test_split as I show in this notebook (random_state)\n",
    "- You MUST use all the features of the dataset (except Id) - you MUST NOT select features\n",
    "\n",
    "\n",
    "=====================================================================================================\n",
    "\n",
    "\n",
    "### If you beat my model:\n",
    "\n",
    "Make a pull request with your notebook to this github repo:\n",
    "https://github.com/solegalli/udemy-feml-challenge\n",
    "\n",
    "And add your notebook to the folder:\n",
    "\n",
    "-StudentsSolutions_v1.0.0\n",
    "\n",
    "### How to make the PR\n",
    "\n",
    "1) fork the repo:\n",
    "\n",
    "Go to https://github.com/solegalli/udemy-feml-challenge, and click on the **fork** button at the top-right\n",
    "\n",
    "2) clone your forked repo into your local computer:\n",
    "\n",
    "- Go to www.github.com/yourusername/udemy-feml-challenge\n",
    "- Click the green button that says clone or download\n",
    "- copy the url that opens up\n",
    "- power up a git console\n",
    "- type: git clone (paste the url you copied from github)\n",
    "- done\n",
    "\n",
    "3) Make a copy of the jupyter notebook and add your name:\n",
    "\n",
    "- Open up the Jupyter notebook called 13-Assignement.ipynb\n",
    "- Click the \"File\" button at the top-right and then click \"Make a copy\"\n",
    "- **Work your solution in the Copy** and not in the original assignment (otherwise there will be conflicts when making the PR)\n",
    "- Change the name of the copy of the notebook to: 13-Assignement_yourname.ipynb\n",
    "- Move the notebook to the folder **StudentsSolutions_v1.0.0**\n",
    "- done\n",
    "\n",
    "When you finish, just commit the new notebook to your fork and then make a PR to my repo.\n",
    "\n",
    "- git add StudentsSolutions_v1.0.0/13-Assignement_yourname.ipynb\n",
    "- git commit -m \"your commit message\"\n",
    "- git push origin master or git push origin yourfeaturebranch\n",
    "- go to your repo and make a pull request.\n",
    "\n",
    "\n",
    "## But i have a notebook ready and I haven't cloned the repo yet, how can I make the PR?\n",
    "\n",
    "If you worked in the copy you downloaded from Udemy before forking and cloning this repo, then follow this steps:\n",
    "\n",
    "1) fork the repo:\n",
    "\n",
    "Go to https://github.com/solegalli/udemy-feml-challenge, and click on the fork button at the top-right\n",
    "\n",
    "2) clone your forked repo into your local computer:\n",
    "\n",
    "Go to www.github.com/yourusername/udemy-feml-challenge\n",
    "\n",
    "- Click the green button that says clone or download\n",
    "- Copy the url that opens up\n",
    "- Power up a git console\n",
    "- Type: git clone (paste the url you copied from github)\n",
    "- Done\n",
    "\n",
    "3) Rename your solution as follows and copy it into your cloned repo:\n",
    "\n",
    "- Rename your solution notebook to: 13-Assignement_yourname.ipynb\n",
    "- Copy this file into the cloned repo, inside the folder **StudentsSolutions_v1.0.0**\n",
    "- Done\n",
    "\n",
    "When you finish, just commit the new notebook to your fork and then make a PR to my repo\n",
    "\n",
    "- git add StudentsSolutions_v1.0.0/13-Assignement_yourname.ipynb\n",
    "- git commit -m \"your commit message\"\n",
    "- git push origin master or git push origin yourfeaturebranch\n",
    "- go to your repo and make a pull request.\n",
    "\n",
    "**Good luck!!**"
   ]
  },
  {
   "cell_type": "markdown",
   "metadata": {},
   "source": [
    "## House Prices dataset"
   ]
  },
  {
   "cell_type": "code",
   "execution_count": 1,
   "metadata": {},
   "outputs": [],
   "source": [
    "import pandas as pd\n",
    "import numpy as np\n",
    "import matplotlib.pyplot as plt\n",
    "\n",
    "import scipy.stats as stats\n",
    "\n",
    "# for the model\n",
    "from sklearn.model_selection import train_test_split\n",
    "from sklearn.linear_model import Lasso\n",
    "from sklearn.pipeline import Pipeline\n",
    "from sklearn.metrics import mean_squared_error, r2_score\n",
    "\n",
    "# for feature engineering\n",
    "from sklearn.preprocessing import StandardScaler, RobustScaler, FunctionTransformer, PowerTransformer\n",
    "from feature_engine import imputation as mdi\n",
    "from feature_engine import discretisation as dsc\n",
    "from feature_engine import encoding as ce"
   ]
  },
  {
   "cell_type": "markdown",
   "metadata": {},
   "source": [
    "### Load Datasets"
   ]
  },
  {
   "cell_type": "code",
   "execution_count": 2,
   "metadata": {},
   "outputs": [],
   "source": [
    "# load dataset\n",
    "\n",
    "#data = pd.read_csv('../houseprice.csv')\n",
    "data = pd.read_csv('houseprice.csv')"
   ]
  },
  {
   "cell_type": "code",
   "execution_count": 3,
   "metadata": {
    "scrolled": true
   },
   "outputs": [
    {
     "name": "stdout",
     "output_type": "stream",
     "text": [
      "There are 18 continuous variables\n",
      "There are 14 discrete variables\n",
      "There are 4 temporal variables\n",
      "There are 43 categorical variables\n"
     ]
    }
   ],
   "source": [
    "# make lists of variable types\n",
    "\n",
    "categorical = [var for var in data.columns if data[var].dtype == 'O']\n",
    "\n",
    "year_vars = [var for var in data.columns if 'Yr' in var or 'Year' in var]\n",
    "\n",
    "discrete = [\n",
    "    var for var in data.columns if data[var].dtype != 'O'\n",
    "    and len(data[var].unique()) < 20 and var not in year_vars\n",
    "]\n",
    "\n",
    "numerical = [\n",
    "    var for var in data.columns if data[var].dtype != 'O'\n",
    "    if var not in discrete and var not in ['Id', 'SalePrice']\n",
    "    and var not in year_vars\n",
    "]\n",
    "\n",
    "print('There are {} continuous variables'.format(len(numerical)))\n",
    "print('There are {} discrete variables'.format(len(discrete)))\n",
    "print('There are {} temporal variables'.format(len(year_vars)))\n",
    "print('There are {} categorical variables'.format(len(categorical)))"
   ]
  },
  {
   "cell_type": "markdown",
   "metadata": {},
   "source": [
    "# Assess normality"
   ]
  },
  {
   "cell_type": "code",
   "execution_count": 4,
   "metadata": {},
   "outputs": [],
   "source": [
    "# # let's explore the distribution of the numerical variables\n",
    "\n",
    "# data[numerical].hist(figsize=(20,20))\n",
    "# plt.show()"
   ]
  },
  {
   "cell_type": "code",
   "execution_count": 5,
   "metadata": {},
   "outputs": [],
   "source": [
    "# # plot the histograms to have a quick look at the variable distribution\n",
    "# # histogram and Q-Q plots\n",
    "\n",
    "# def diagnostic_plots(df, variable):\n",
    "    \n",
    "#     # function to plot a histogram and a Q-Q plot\n",
    "#     # side by side, for a certain variable\n",
    "    \n",
    "#     plt.figure(figsize=(15,6))\n",
    "#     plt.subplot(1, 2, 1)\n",
    "#     df[variable].hist(bins=30)\n",
    "\n",
    "#     plt.subplot(1, 2, 2)\n",
    "#     stats.probplot(df[variable], dist=\"norm\", plot=plt)\n",
    "\n",
    "#     plt.show()"
   ]
  },
  {
   "cell_type": "code",
   "execution_count": 6,
   "metadata": {},
   "outputs": [],
   "source": [
    "# # create the transformer\n",
    "# log_transformer = FunctionTransformer(np.log, validate=True)\n",
    "# data['field_log'] = np.log(data['field'])\n",
    "\n",
    "# #reciprocal_transformer = FunctionTransformer(np.reciprocal, validate=True)\n",
    "# reciprocal_transformer = FunctionTransformer(lambda x: 1/x, validate=True)\n",
    "\n",
    "# exp_transformer = FunctionTransformer(lambda x: x**(1/1.2), validate=True) # can vary exponent as needed\n",
    "# data['field_exp'] = np.exp(data['field'])\n",
    "\n",
    "# sqrt_transformer = FunctionTransformer(np.sqrt, validate=True)\n",
    "# data['field_sqrt'] = np.sqrt(data['field'])\n",
    "\n",
    "# boxcox_transformer = PowerTransformer(method='box-cox', standardize=False)\n",
    "# yj_transformer = PowerTransformer(method='yeo-johnson', standardize=False)\n",
    "\n",
    "# # # find the optimal lambda using the train set - for boxcox transformer\n",
    "# # boxcox_transformer.fit(data['BsmtUnfSF'].fillna(1).values.reshape(-1,1))\n",
    "# # # transform the data\n",
    "# # data['BsmtUnfSF_boxcox'] = boxcox_transformer.transform(data['BsmtUnfSF'].fillna(1).values.reshape(-1,1))\n",
    "# # diagnostic_plots(data, 'BsmtUnfSF_boxcox')"
   ]
  },
  {
   "cell_type": "code",
   "execution_count": 7,
   "metadata": {},
   "outputs": [],
   "source": [
    "# diagnostic_plots(data, 'BsmtUnfSF')"
   ]
  },
  {
   "cell_type": "code",
   "execution_count": 8,
   "metadata": {},
   "outputs": [],
   "source": [
    "data['BsmtUnfSF_sqrt'] = data['BsmtUnfSF'].apply(lambda x: x**0.5)\n",
    "# diagnostic_plots(data, 'BsmtUnfSF_sqrt')\n",
    "data.drop('BsmtUnfSF', axis=1, inplace = True)"
   ]
  },
  {
   "cell_type": "code",
   "execution_count": 9,
   "metadata": {},
   "outputs": [],
   "source": [
    "# diagnostic_plots(data, '1stFlrSF')"
   ]
  },
  {
   "cell_type": "code",
   "execution_count": 10,
   "metadata": {},
   "outputs": [],
   "source": [
    "data['1stFlrSF_log'] = np.log(data['1stFlrSF'])\n",
    "# diagnostic_plots(data, '1stFlrSF_log')\n",
    "data.drop('1stFlrSF', axis=1, inplace = True)"
   ]
  },
  {
   "cell_type": "code",
   "execution_count": 11,
   "metadata": {},
   "outputs": [],
   "source": [
    "# diagnostic_plots(data, 'GrLivArea')"
   ]
  },
  {
   "cell_type": "code",
   "execution_count": 12,
   "metadata": {},
   "outputs": [],
   "source": [
    "data['GrLivArea_log'] = np.log(data['GrLivArea'])\n",
    "# diagnostic_plots(data, 'GrLivArea_log')\n",
    "data.drop('GrLivArea', axis=1, inplace = True)"
   ]
  },
  {
   "cell_type": "code",
   "execution_count": 13,
   "metadata": {},
   "outputs": [
    {
     "name": "stdout",
     "output_type": "stream",
     "text": [
      "There are 18 continuous variables\n",
      "There are 14 discrete variables\n",
      "There are 4 temporal variables\n",
      "There are 43 categorical variables\n"
     ]
    }
   ],
   "source": [
    "# regenerate dtype of each column\n",
    "\n",
    "categorical = [var for var in data.columns if data[var].dtype == 'O']\n",
    "\n",
    "year_vars = [var for var in data.columns if 'Yr' in var or 'Year' in var]\n",
    "\n",
    "discrete = [\n",
    "    var for var in data.columns if data[var].dtype != 'O'\n",
    "    and len(data[var].unique()) < 20 and var not in year_vars\n",
    "]\n",
    "\n",
    "numerical = [\n",
    "    var for var in data.columns if data[var].dtype != 'O'\n",
    "    if var not in discrete and var not in ['Id', 'SalePrice']\n",
    "    and var not in year_vars\n",
    "]\n",
    "\n",
    "print('There are {} continuous variables'.format(len(numerical)))\n",
    "print('There are {} discrete variables'.format(len(discrete)))\n",
    "print('There are {} temporal variables'.format(len(year_vars)))\n",
    "print('There are {} categorical variables'.format(len(categorical)))"
   ]
  },
  {
   "cell_type": "markdown",
   "metadata": {},
   "source": [
    "### Separate train and test set"
   ]
  },
  {
   "cell_type": "code",
   "execution_count": 14,
   "metadata": {},
   "outputs": [],
   "source": [
    "# IMPORTANT: keep the random_state to zero for reproducibility\n",
    "# Let's separate into train and test set\n",
    "\n",
    "X_train, X_test, y_train, y_test = train_test_split(data.drop(\n",
    "    ['Id', 'SalePrice'], axis=1),\n",
    "    data['SalePrice'],\n",
    "    test_size=0.1,\n",
    "    random_state=0)"
   ]
  },
  {
   "cell_type": "code",
   "execution_count": 15,
   "metadata": {},
   "outputs": [],
   "source": [
    "# calculate elapsed time\n",
    "\n",
    "def elapsed_years(df, var):\n",
    "    # capture difference between year variable and\n",
    "    # year the house was sold\n",
    "    \n",
    "    df[var] = df['YrSold'] - df[var]\n",
    "    return df\n",
    "\n",
    "for var in ['YearBuilt', 'YearRemodAdd', 'GarageYrBlt']:\n",
    "    X_train = elapsed_years(X_train, var)\n",
    "    X_test = elapsed_years(X_test, var)"
   ]
  },
  {
   "cell_type": "code",
   "execution_count": 16,
   "metadata": {},
   "outputs": [],
   "source": [
    "# drop YrSold\n",
    "X_train.drop('YrSold', axis=1, inplace=True)\n",
    "X_test.drop('YrSold', axis=1, inplace=True)"
   ]
  },
  {
   "cell_type": "code",
   "execution_count": 17,
   "metadata": {
    "scrolled": true
   },
   "outputs": [
    {
     "data": {
      "text/html": [
       "<div>\n",
       "<style scoped>\n",
       "    .dataframe tbody tr th:only-of-type {\n",
       "        vertical-align: middle;\n",
       "    }\n",
       "\n",
       "    .dataframe tbody tr th {\n",
       "        vertical-align: top;\n",
       "    }\n",
       "\n",
       "    .dataframe thead th {\n",
       "        text-align: right;\n",
       "    }\n",
       "</style>\n",
       "<table border=\"1\" class=\"dataframe\">\n",
       "  <thead>\n",
       "    <tr style=\"text-align: right;\">\n",
       "      <th></th>\n",
       "      <th>MSSubClass</th>\n",
       "      <th>MSZoning</th>\n",
       "      <th>LotFrontage</th>\n",
       "      <th>LotArea</th>\n",
       "      <th>Street</th>\n",
       "      <th>Alley</th>\n",
       "      <th>LotShape</th>\n",
       "      <th>LandContour</th>\n",
       "      <th>Utilities</th>\n",
       "      <th>LotConfig</th>\n",
       "      <th>...</th>\n",
       "      <th>PoolQC</th>\n",
       "      <th>Fence</th>\n",
       "      <th>MiscFeature</th>\n",
       "      <th>MiscVal</th>\n",
       "      <th>MoSold</th>\n",
       "      <th>SaleType</th>\n",
       "      <th>SaleCondition</th>\n",
       "      <th>BsmtUnfSF_sqrt</th>\n",
       "      <th>1stFlrSF_log</th>\n",
       "      <th>GrLivArea_log</th>\n",
       "    </tr>\n",
       "  </thead>\n",
       "  <tbody>\n",
       "    <tr>\n",
       "      <th>930</th>\n",
       "      <td>20</td>\n",
       "      <td>191356.98166</td>\n",
       "      <td>73.0</td>\n",
       "      <td>8925</td>\n",
       "      <td>181219.432391</td>\n",
       "      <td>NaN</td>\n",
       "      <td>204901.363636</td>\n",
       "      <td>229102.255814</td>\n",
       "      <td>181073.785225</td>\n",
       "      <td>176923.341336</td>\n",
       "      <td>...</td>\n",
       "      <td>NaN</td>\n",
       "      <td>NaN</td>\n",
       "      <td>NaN</td>\n",
       "      <td>0</td>\n",
       "      <td>7</td>\n",
       "      <td>173346.078671</td>\n",
       "      <td>175368.825368</td>\n",
       "      <td>38.078866</td>\n",
       "      <td>7.290293</td>\n",
       "      <td>7.290293</td>\n",
       "    </tr>\n",
       "    <tr>\n",
       "      <th>656</th>\n",
       "      <td>20</td>\n",
       "      <td>191356.98166</td>\n",
       "      <td>72.0</td>\n",
       "      <td>10007</td>\n",
       "      <td>181219.432391</td>\n",
       "      <td>NaN</td>\n",
       "      <td>204901.363636</td>\n",
       "      <td>180454.298052</td>\n",
       "      <td>181073.785225</td>\n",
       "      <td>176923.341336</td>\n",
       "      <td>...</td>\n",
       "      <td>NaN</td>\n",
       "      <td>145283.748092</td>\n",
       "      <td>NaN</td>\n",
       "      <td>0</td>\n",
       "      <td>8</td>\n",
       "      <td>173346.078671</td>\n",
       "      <td>175368.825368</td>\n",
       "      <td>15.716234</td>\n",
       "      <td>6.959399</td>\n",
       "      <td>6.959399</td>\n",
       "    </tr>\n",
       "    <tr>\n",
       "      <th>45</th>\n",
       "      <td>120</td>\n",
       "      <td>191356.98166</td>\n",
       "      <td>61.0</td>\n",
       "      <td>7658</td>\n",
       "      <td>181219.432391</td>\n",
       "      <td>NaN</td>\n",
       "      <td>164928.283474</td>\n",
       "      <td>180454.298052</td>\n",
       "      <td>181073.785225</td>\n",
       "      <td>176923.341336</td>\n",
       "      <td>...</td>\n",
       "      <td>NaN</td>\n",
       "      <td>NaN</td>\n",
       "      <td>NaN</td>\n",
       "      <td>0</td>\n",
       "      <td>2</td>\n",
       "      <td>173346.078671</td>\n",
       "      <td>175368.825368</td>\n",
       "      <td>36.000000</td>\n",
       "      <td>7.468513</td>\n",
       "      <td>7.468513</td>\n",
       "    </tr>\n",
       "    <tr>\n",
       "      <th>1348</th>\n",
       "      <td>20</td>\n",
       "      <td>191356.98166</td>\n",
       "      <td>NaN</td>\n",
       "      <td>16196</td>\n",
       "      <td>181219.432391</td>\n",
       "      <td>NaN</td>\n",
       "      <td>216036.5</td>\n",
       "      <td>205055.882353</td>\n",
       "      <td>181073.785225</td>\n",
       "      <td>176923.341336</td>\n",
       "      <td>...</td>\n",
       "      <td>NaN</td>\n",
       "      <td>NaN</td>\n",
       "      <td>NaN</td>\n",
       "      <td>0</td>\n",
       "      <td>8</td>\n",
       "      <td>173346.078671</td>\n",
       "      <td>175368.825368</td>\n",
       "      <td>6.244998</td>\n",
       "      <td>7.309212</td>\n",
       "      <td>7.309212</td>\n",
       "    </tr>\n",
       "    <tr>\n",
       "      <th>55</th>\n",
       "      <td>20</td>\n",
       "      <td>191356.98166</td>\n",
       "      <td>100.0</td>\n",
       "      <td>10175</td>\n",
       "      <td>181219.432391</td>\n",
       "      <td>NaN</td>\n",
       "      <td>204901.363636</td>\n",
       "      <td>180454.298052</td>\n",
       "      <td>181073.785225</td>\n",
       "      <td>176923.341336</td>\n",
       "      <td>...</td>\n",
       "      <td>NaN</td>\n",
       "      <td>NaN</td>\n",
       "      <td>NaN</td>\n",
       "      <td>0</td>\n",
       "      <td>7</td>\n",
       "      <td>173346.078671</td>\n",
       "      <td>175368.825368</td>\n",
       "      <td>30.577770</td>\n",
       "      <td>7.261927</td>\n",
       "      <td>7.261927</td>\n",
       "    </tr>\n",
       "  </tbody>\n",
       "</table>\n",
       "<p>5 rows × 78 columns</p>\n",
       "</div>"
      ],
      "text/plain": [
       "      MSSubClass      MSZoning  LotFrontage  LotArea         Street Alley  \\\n",
       "930           20  191356.98166         73.0     8925  181219.432391   NaN   \n",
       "656           20  191356.98166         72.0    10007  181219.432391   NaN   \n",
       "45           120  191356.98166         61.0     7658  181219.432391   NaN   \n",
       "1348          20  191356.98166          NaN    16196  181219.432391   NaN   \n",
       "55            20  191356.98166        100.0    10175  181219.432391   NaN   \n",
       "\n",
       "           LotShape    LandContour      Utilities      LotConfig  ... PoolQC  \\\n",
       "930   204901.363636  229102.255814  181073.785225  176923.341336  ...    NaN   \n",
       "656   204901.363636  180454.298052  181073.785225  176923.341336  ...    NaN   \n",
       "45    164928.283474  180454.298052  181073.785225  176923.341336  ...    NaN   \n",
       "1348       216036.5  205055.882353  181073.785225  176923.341336  ...    NaN   \n",
       "55    204901.363636  180454.298052  181073.785225  176923.341336  ...    NaN   \n",
       "\n",
       "              Fence MiscFeature MiscVal MoSold       SaleType  SaleCondition  \\\n",
       "930             NaN         NaN       0      7  173346.078671  175368.825368   \n",
       "656   145283.748092         NaN       0      8  173346.078671  175368.825368   \n",
       "45              NaN         NaN       0      2  173346.078671  175368.825368   \n",
       "1348            NaN         NaN       0      8  173346.078671  175368.825368   \n",
       "55              NaN         NaN       0      7  173346.078671  175368.825368   \n",
       "\n",
       "      BsmtUnfSF_sqrt  1stFlrSF_log  GrLivArea_log  \n",
       "930        38.078866      7.290293       7.290293  \n",
       "656        15.716234      6.959399       6.959399  \n",
       "45         36.000000      7.468513       7.468513  \n",
       "1348        6.244998      7.309212       7.309212  \n",
       "55         30.577770      7.261927       7.261927  \n",
       "\n",
       "[5 rows x 78 columns]"
      ]
     },
     "execution_count": 17,
     "metadata": {},
     "output_type": "execute_result"
    }
   ],
   "source": [
    "def categories_to_mean(df_train, df_test, y_train, y_test):\n",
    "\n",
    "    # make a temporary copy of the datasets\n",
    "    df_train_temp = pd.concat([df_train, y_train], axis=1).copy()\n",
    "    df_test_temp = pd.concat([df_test, y_test], axis=1).copy()\n",
    "\n",
    "    for col in categorical:\n",
    "\n",
    "        # calculate mean target per category\n",
    "        ordered_labels = df_train_temp.groupby(\n",
    "            [col])['SalePrice'].mean().to_dict()\n",
    "\n",
    "        # remap the categories to target mean\n",
    "        df_train_temp[col] = df_train[col].map(ordered_labels).astype('O')\n",
    "        df_test_temp[col] = df_test[col].map(ordered_labels).astype('O')\n",
    "\n",
    "    # remove the target\n",
    "    df_train_temp.drop(['SalePrice'], axis=1, inplace=True)\n",
    "    df_test_temp.drop(['SalePrice'], axis=1, inplace=True)\n",
    "\n",
    "    return df_train_temp, df_test_temp\n",
    "\n",
    "\n",
    "X_train_mean, X_test_mean = categories_to_mean(\n",
    "    X_train, X_test, y_train, y_test)\n",
    "\n",
    "X_train_mean.head()"
   ]
  },
  {
   "cell_type": "code",
   "execution_count": 18,
   "metadata": {},
   "outputs": [],
   "source": [
    "# capture the column names for use later in the notebook\n",
    "final_columns = X_train_mean.columns"
   ]
  },
  {
   "cell_type": "markdown",
   "metadata": {},
   "source": [
    "## Feature Engineering Pipeline"
   ]
  },
  {
   "cell_type": "code",
   "execution_count": 19,
   "metadata": {},
   "outputs": [],
   "source": [
    "# I will treat discrete variables as if they were categorical\n",
    "# to treat discrete as categorical using Feature-engine\n",
    "# we need to re-cast them as object\n",
    "\n",
    "X_train_mean[discrete] = X_train_mean[discrete].astype('O')\n",
    "X_test_mean[discrete] = X_test_mean[discrete].astype('O')"
   ]
  },
  {
   "cell_type": "code",
   "execution_count": 20,
   "metadata": {},
   "outputs": [],
   "source": [
    "house_pipe = Pipeline([\n",
    "\n",
    "    # missing data imputation - section 4\n",
    "    ('missing_ind',\n",
    "     mdi.AddMissingIndicator(\n",
    "         variables=numerical + ['LotFrontage', 'MasVnrArea', 'GarageYrBlt'])),\n",
    "\n",
    "    ('imputer_num',\n",
    "     mdi.MeanMedianImputer(\n",
    "         imputation_method='median',\n",
    "         variables=numerical + ['LotFrontage', 'MasVnrArea', 'GarageYrBlt'])),\n",
    "\n",
    "    ('imputer_cat', \n",
    "     mdi.CategoricalImputer(\n",
    "        imputation_method='frequent',\n",
    "        variables=categorical)),\n",
    "\n",
    "    # categorical encoding - section 6\n",
    "    ('rare_label_enc',\n",
    "     ce.RareLabelEncoder(tol=0.01, n_categories=1, variables=discrete)),\n",
    "\n",
    "    # newly available categorical encoder, uses trees predictions\n",
    "    ('categorical_enc',\n",
    "     ce.DecisionTreeEncoder(random_state=2909, variables=discrete)),\n",
    "\n",
    "    # discretisation - section 8\n",
    "    ('discretisation',\n",
    "     dsc.DecisionTreeDiscretiser(random_state=2909, variables=categorical+discrete+numerical)),\n",
    "\n",
    "    # feature Scaling - section 10\n",
    "    ('scaler', RobustScaler()),\n",
    "\n",
    "    # regression\n",
    "    ('lasso', Lasso(random_state=0))\n",
    "])"
   ]
  },
  {
   "cell_type": "code",
   "execution_count": 21,
   "metadata": {},
   "outputs": [],
   "source": [
    "# let's fit the pipeline\n",
    "house_pipe.fit(X_train_mean, y_train)\n",
    "\n",
    "# let's get the predictions\n",
    "X_train_preds = house_pipe.predict(X_train_mean)\n",
    "X_test_preds = house_pipe.predict(X_test_mean)"
   ]
  },
  {
   "cell_type": "code",
   "execution_count": 22,
   "metadata": {
    "scrolled": true
   },
   "outputs": [
    {
     "name": "stdout",
     "output_type": "stream",
     "text": [
      "train mse: 535667503.47016114\n",
      "train rmse: 23144.491860271228\n",
      "train r2: 0.9142085318665213\n",
      "\n",
      "test mse: 922415503.4497125\n",
      "test rmse: 30371.294069395735\n",
      "test r2: 0.8657741517751238\n"
     ]
    }
   ],
   "source": [
    "# check model performance:\n",
    "\n",
    "print('train mse: {}'.format(mean_squared_error(y_train, X_train_preds, squared=True)))\n",
    "print('train rmse: {}'.format(mean_squared_error(y_train, X_train_preds, squared=False)))\n",
    "print('train r2: {}'.format(r2_score(y_train, X_train_preds)))\n",
    "print()\n",
    "print('test mse: {}'.format(mean_squared_error(y_test, X_test_preds,squared=True)))\n",
    "print('test rmse: {}'.format(mean_squared_error(y_test, X_test_preds, squared=False)))\n",
    "print('test r2: {}'.format(r2_score(y_test, X_test_preds)))"
   ]
  },
  {
   "cell_type": "code",
   "execution_count": 23,
   "metadata": {},
   "outputs": [
    {
     "data": {
      "text/plain": [
       "Text(0, 0.5, 'Predicted Price')"
      ]
     },
     "execution_count": 23,
     "metadata": {},
     "output_type": "execute_result"
    },
    {
     "data": {
      "image/png": "[encoded data removed]",
      "text/plain": [
       "<Figure size 432x288 with 1 Axes>"
      ]
     },
     "metadata": {
      "needs_background": "light"
     },
     "output_type": "display_data"
    }
   ],
   "source": [
    "# plot predictions vs real value\n",
    "\n",
    "plt.scatter(y_test,X_test_preds)\n",
    "plt.xlabel('True Price')\n",
    "plt.ylabel('Predicted Price')"
   ]
  },
  {
   "cell_type": "code",
   "execution_count": 24,
   "metadata": {},
   "outputs": [
    {
     "data": {
      "text/plain": [
       "<AxesSubplot:>"
      ]
     },
     "execution_count": 24,
     "metadata": {},
     "output_type": "execute_result"
    },
    {
     "data": {
      "image/png": "[encoded data removed]",
      "text/plain": [
       "<Figure size 1296x432 with 1 Axes>"
      ]
     },
     "metadata": {
      "needs_background": "light"
     },
     "output_type": "display_data"
    }
   ],
   "source": [
    "# let's explore the importance of the features\n",
    "# the importance is given by the absolute value of the coefficient\n",
    "# assigned by the Lasso\n",
    "\n",
    "importance = pd.Series(np.abs(house_pipe.named_steps['lasso'].coef_))\n",
    "importance.index = list(final_columns)+['LotFrontage_na', 'MasVnrArea_na',  'GarageYrBlt_na']\n",
    "importance.sort_values(inplace=True, ascending=False)\n",
    "importance.plot.bar(figsize=(18,6))"
   ]
  },
  {
   "cell_type": "code",
   "execution_count": null,
   "metadata": {},
   "outputs": [],
   "source": []
  }
 ],
 "metadata": {
  "kernelspec": {
   "display_name": "Python 3 (ipykernel)",
   "language": "python",
   "name": "python3"
  },
  "language_info": {
   "codemirror_mode": {
    "name": "ipython",
    "version": 3
   },
   "file_extension": ".py",
   "mimetype": "text/x-python",
   "name": "python",
   "nbconvert_exporter": "python",
   "pygments_lexer": "ipython3",
   "version": "3.7.11"
  },
  "toc": {
   "base_numbering": 1,
   "nav_menu": {},
   "number_sections": true,
   "sideBar": true,
   "skip_h1_title": false,
   "title_cell": "Table of Contents",
   "title_sidebar": "Contents",
   "toc_cell": false,
   "toc_position": {
    "height": "583px",
    "left": "0px",
    "right": "1324px",
    "top": "107px",
    "width": "212px"
   },
   "toc_section_display": "block",
   "toc_window_display": true
  }
 },
 "nbformat": 4,
 "nbformat_minor": 2
}
